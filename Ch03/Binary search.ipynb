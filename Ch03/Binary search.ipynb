{
 "cells": [
  {
   "cell_type": "markdown",
   "metadata": {},
   "source": [
    "# Binary search\n",
    "In binary search, we need the **sorted** data.\n",
    "___\n",
    "pseudo code:\n",
    "```\n",
    "BinarySearch(A[0..N-1], value, low, high) {\n",
    "  if (high <= low)\n",
    "    return -1 // not found\n",
    "  mid = (low + high) / 2\n",
    "  if (A[mid] > value)\n",
    "    return BinarySearch(A, value, low, mid-1)\n",
    "  else if (A[mid] < value)\n",
    "    return BinarySearch(A, value, mid+1, high)\n",
    "  else\n",
    "    return mid // found\n",
    "}\n",
    "```"
   ]
  },
  {
   "cell_type": "code",
   "execution_count": null,
   "metadata": {},
   "outputs": [],
   "source": [
    "from typing import Any, Sequence\n",
    "\n",
    "def bin_search(a: Sequence, key:Any)->int:\n",
    "    \"\"\"시퀸스 a에서 key와 일치하는 원소를 이진 검색\"\"\"\n",
    "    pl = 0\n",
    "    pr = len(a) - 1\n",
    "    \n",
    "    while True:\n",
    "        pc = (pl+pr)//2\n",
    "        if a[pc] == key:\n",
    "            return pc\n",
    "        elif a[pc] < key:\n",
    "            pl = pc + 1\n",
    "        else:\n",
    "            pr = pc - 1\n",
    "        if pl > pr:\n",
    "            break\n",
    "            return -1\n",
    "\n",
    "if __name__ == '__main__':\n",
    "    num = int(input('원소 수를 입력하세요.: '))\n",
    "    x = [None] * num\n",
    "    \n",
    "    print('배열 데이터를 오름차순으로 입력하세요.')\n",
    "    \n",
    "    x[0] = int(input('x[0]: '))\n",
    "    \n",
    "    for i in range(1, num):\n",
    "        while True:\n",
    "            x[i] = int(input(f'x[{i}]: '))\n",
    "            if x[i] >= x[i-1]:\n",
    "                break\n",
    "                \n",
    "    ky = int(input('검색할 값을 입력하세요.: '))\n",
    "    \n",
    "    idx = bin_search(x, ky)\n",
    "    \n",
    "    if idx == -1:\n",
    "        print('No value.')\n",
    "    else:\n",
    "        print(f'x[{idx}]')"
   ]
  }
 ],
 "metadata": {
  "kernelspec": {
   "display_name": "Python 3",
   "language": "python",
   "name": "python3"
  },
  "language_info": {
   "codemirror_mode": {
    "name": "ipython",
    "version": 3
   },
   "file_extension": ".py",
   "mimetype": "text/x-python",
   "name": "python",
   "nbconvert_exporter": "python",
   "pygments_lexer": "ipython3",
   "version": "3.8.5"
  }
 },
 "nbformat": 4,
 "nbformat_minor": 4
}
