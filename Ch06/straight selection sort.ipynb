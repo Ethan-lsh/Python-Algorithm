{
 "cells": [
  {
   "cell_type": "markdown",
   "source": [
    "### 06-3. 단순 선택 정렬 straight selection sort\n",
    "가장 작은 원소부터 선택해 알맞은 위치로 옮기는 작업을 반복하며 정렬하는 알고리즘\n",
    "\n",
    "1. 아직 정렬하지 않은 부분에서 가장 값이 작은 원소 (a[min])를 선택\n",
    "2. a[min]과 아직 정렬하지 않은 부분에서 맨 앞에 있는 원소를 교환\n",
    "\n",
    "위 과정을 n-1번 반복하면 전체 정렬이 완료된다.\n",
    "원솟값을 비교하는 횟수는 (n^2-n)/2 번이다."
   ],
   "metadata": {
    "collapsed": false
   }
  },
  {
   "cell_type": "code",
   "execution_count": 1,
   "metadata": {
    "collapsed": true,
    "pycharm": {
     "name": "#%%\n"
    }
   },
   "outputs": [
    {
     "name": "stdout",
     "output_type": "stream",
     "text": [
      "단순 선택 정렬을 수행합니다\n"
     ]
    }
   ],
   "source": [
    "# 단순 선택 정렬 알고리즘 구하기\n",
    "\n",
    "from typing import MutableSequence\n",
    "\n",
    "def selection_sort(a: MutableSequence) -> None:\n",
    "    '''단순 선택 정렬'''\n",
    "    n = len(a)\n",
    "    for i in range(n-1):\n",
    "        min=i\n",
    "        for j in range(i+1, n):\n",
    "            if a[j] < a[min]:\n",
    "                min = j\n",
    "        a[i], a[min] = a[min], a[i]\n",
    "\n",
    "if __name__ == '__main__':\n",
    "    print('단순 선택 정렬을 수행합니다')\n",
    "    num = int(input('원소 수를 입력하세요'))\n",
    "\n",
    "    x = [None] * num\n",
    "\n",
    "    for i in range(num):\n",
    "        x[i] = int(input(f'x[{i}]: '))\n",
    "\n",
    "    selection_sort(x)"
   ]
  },
  {
   "cell_type": "markdown",
   "source": [
    "### 06-4. 단순 삽입 정렬 straight insertion sort\n",
    "선택한 원소보다 더 앞쪽에서 알맞은 위치로 삽입하며 정렬하는 알고리즘. 단순 선택 정렬과 비슷해 보이지만 값이 가장 작은 원소를 선택하지 않는다는 점이 다르다.\n",
    "정렬되지 않은 부분의 맨 앞 원소를 정렬된 부분의 알맞은 위치에 삽입하는 작업은 n-1번 반복한다.\n",
    "\n",
    "```\n",
    "j=i\n",
    "tmp = a[i]\n",
    "while j >0 and a[j-1]>tmp:\n",
    "     a[j] = a[j-1]\n",
    "     j -=1\n",
    "a[j] = tmp\n",
    "```\n",
    "\n",
    "배열에서 선택한 값보다 앞쪽에 큰 값들이 있는 경우 큰 값들을 뒤로 복사해서 미뤄놓고 더이상 앞에 큰 값이 없으면 그 자리에 선택한 값을 집어넣는 방식"
   ],
   "metadata": {
    "collapsed": false
   }
  },
  {
   "cell_type": "code",
   "execution_count": 2,
   "outputs": [
    {
     "name": "stdout",
     "output_type": "stream",
     "text": [
      "단순 삽입 정렬\n",
      "오름차순으로 정렬했습니다.\n",
      "x[0] = 1\n",
      "x[1] = 3\n",
      "x[2] = 4\n",
      "x[3] = 6\n",
      "x[4] = 7\n",
      "x[5] = 8\n",
      "x[6] = 9\n"
     ]
    }
   ],
   "source": [
    "# 단순 삽입 정렬 알고리즘 구현하기\n",
    "\n",
    "from typing import MutableSequence\n",
    "\n",
    "def insertion_sort(a: MutableSequence) -> None:\n",
    "    '''단순 삽입 정렬'''\n",
    "    n = len(a)\n",
    "    for i in range(1, n):\n",
    "        j = i\n",
    "        tmp = a[i]\n",
    "        while j > 0 and a[j-1] > tmp:\n",
    "            a[j] = a[j-1]\n",
    "            j -= 1\n",
    "        a[j] = tmp\n",
    "\n",
    "if __name__ == '__main__':\n",
    "    print('단순 삽입 정렬')\n",
    "    num = int(input('원소 수: '))\n",
    "    x = [None] * num\n",
    "\n",
    "    for i in range(num):\n",
    "        x[i] = int(input(f'x[{i}]: '))\n",
    "\n",
    "    insertion_sort(x)\n",
    "\n",
    "    print('오름차순으로 정렬했습니다.')\n",
    "    for i in range(num):\n",
    "        print(f'x[{i}] = {x[i]}')\n"
   ],
   "metadata": {
    "collapsed": false,
    "pycharm": {
     "name": "#%%\n"
    }
   }
  }
 ],
 "metadata": {
  "kernelspec": {
   "display_name": "Python 3",
   "language": "python",
   "name": "python3"
  },
  "language_info": {
   "codemirror_mode": {
    "name": "ipython",
    "version": 2
   },
   "file_extension": ".py",
   "mimetype": "text/x-python",
   "name": "python",
   "nbconvert_exporter": "python",
   "pygments_lexer": "ipython2",
   "version": "2.7.6"
  }
 },
 "nbformat": 4,
 "nbformat_minor": 0
}