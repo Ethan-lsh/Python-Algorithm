{
 "cells": [
  {
   "cell_type": "markdown",
   "source": [
    "## 06.정렬 알고리즘\n",
    "### 06-1.정렬 알고리즘\n",
    "\n",
    "정렬 sorting 이란 키 key를 항목값의 대소 관계에 따라 데이터 집합을 일정한 순서로 바꾸어 늘어놓는 작업을 말한다.\n",
    "정렬 알고리즘은 안정적인 stable 것과 그렇지 않는 것으로 나눌 수 있다. 안정적인 정렬 알고리즘은 값이 같은 원소의 순서가 정렬한 후에도 유지되는 것을 말한다. <br/>\n",
    "- 내부 정렬: 정렬한 모든 데이터를 하나의 배열에 저장할 수 있는 경우에 사용하는 알고리즘\n",
    "- 외부 정렬: 정렬할 데이터가 많아서 하나의 배열에 저장할 수 없는 경우에 사용하는 알고리즘\n",
    "\n",
    "\n",
    "\n",
    "---\n",
    "### 06-2.버블 정렬\n",
    "\n",
    "버블 정렬 bubble sort은 이웃한 두 원소의 대소 관계를 비교하여 필요에 따라 교환을 반복하는 알고리즘, 단순 교환 정렬이라고도 한다.\n",
    "원소를 비교하는 횟수는 (n-1) + (n-2) + ... + 1 = n(n-1)/2"
   ],
   "metadata": {
    "collapsed": false
   }
  },
  {
   "cell_type": "code",
   "execution_count": null,
   "metadata": {
    "collapsed": true,
    "pycharm": {
     "is_executing": true
    }
   },
   "outputs": [],
   "source": [
    "# 버블 정렬 알고리즘\n",
    "\n",
    "from typing import MutableSequence\n",
    "\n",
    "def bubble_sort(a: MutableSequence) -> None:\n",
    "    n = len(a)\n",
    "    for i in range(n-1):\n",
    "        for j in range(n-1,i,-1):\n",
    "            if a[j-1] > a[j]:\n",
    "                a[j-1], a[j] = a[j], a[j-1]\n",
    "\n",
    "if __name__ == '__main__':\n",
    "    print('버블 정렬')\n",
    "    num = int(input('원소 수를 입력하세요.: '))\n",
    "    x = [None] * num\n",
    "\n",
    "    for i in range(num):\n",
    "        x[i] = int(input(f'x[{i}]'))\n",
    "\n",
    "    bubble_sort(x)\n",
    "\n",
    "    print('오름차순 정렬')\n",
    "    for i in range(num):\n",
    "        print(f'x[{i}] = {x[i]}')"
   ]
  },
  {
   "cell_type": "code",
   "execution_count": null,
   "outputs": [],
   "source": [
    "# 버블 정렬 알고리즘 구현하기 (알고리즘 개선1)\n",
    "\n",
    "from typing import MutableSequence\n",
    "\n",
    "def bubble_sort(a: MutableSequence) -> None:\n",
    "    n = len(a)\n",
    "    for i in range(n-1):\n",
    "        exchange = 0\n",
    "        for j in range(n-1, i, -1):\n",
    "            if a[j-1] > a[j]:\n",
    "                a[j-1], a[j] = a[j], a[j-1]\n",
    "                exchange += 1\n",
    "        if exchange == 0:\n",
    "            break"
   ],
   "metadata": {
    "collapsed": false,
    "pycharm": {
     "name": "#%%\n"
    }
   }
  },
  {
   "cell_type": "markdown",
   "source": [
    "하나의 패스에서 값들의 교환이 발생하면 exchange의 값은 증가한다. 만약, 패스에서 교환이 없다면 exhange == 0 이 되고 for문을 깨고 정렬을 종료한다."
   ],
   "metadata": {
    "collapsed": false
   }
  },
  {
   "cell_type": "code",
   "execution_count": null,
   "outputs": [],
   "source": [
    "# 버블 정렬 알고리즘 구현하기 (알고리즘 개선2)\n",
    "\n",
    "from typing import MutableSequence\n",
    "\n",
    "def bubble_sort(a: MutableSequence) -> None:\n",
    "    n = len(a)\n",
    "    k = 0\n",
    "    while k < n-1:\n",
    "        last = n - 1\n",
    "        for j in range(n-1, k, -1):\n",
    "            if a[j-1] > a[j]:\n",
    "                a[j-1], a[j] = a[j], a[j-1]\n",
    "                last = k\n",
    "        k = last"
   ],
   "metadata": {
    "collapsed": false,
    "pycharm": {
     "name": "#%%\n"
    }
   }
  },
  {
   "cell_type": "markdown",
   "source": [
    "이미 정렬된 원소를 제외한 나머지만 비교, 교환하도록 하는 방법"
   ],
   "metadata": {
    "collapsed": false
   }
  },
  {
   "cell_type": "code",
   "execution_count": null,
   "outputs": [],
   "source": [
    "from  typing import MutableSequence\n",
    "\n",
    "def shaker_sort(a: MutableSequence) -> None:\n",
    "    left = 0\n",
    "    right = len(a) - 1\n",
    "    last = right\n",
    "    while left < right:\n",
    "        for j in range(right, left, -1):\n",
    "            if a[j-1] > a[j]:\n",
    "                a[j-1], a[j] = a[j], a[j-1]\n",
    "                last =j\n",
    "        left = last\n",
    "\n",
    "        for j in range(left, right):\n",
    "            if a[j] > a[j+1]:\n",
    "                a[j], a[j+1] = a[j+1], a[j]\n",
    "                last = j\n",
    "        right = last"
   ],
   "metadata": {
    "collapsed": false,
    "pycharm": {
     "name": "#%%\n"
    }
   }
  },
  {
   "cell_type": "markdown",
   "source": [
    "**셰이커** 정렬 shaker sort\n",
    "홀수 패스에서는 앞부터, 짝수는 뒤부터 흝는 정렬. 마지막과 처음이 번갈아가면서 정렬된다."
   ],
   "metadata": {
    "collapsed": false
   }
  },
  {
   "cell_type": "code",
   "execution_count": null,
   "outputs": [],
   "source": [],
   "metadata": {
    "collapsed": false,
    "pycharm": {
     "name": "#%%\n"
    }
   }
  }
 ],
 "metadata": {
  "kernelspec": {
   "display_name": "Python 3",
   "language": "python",
   "name": "python3"
  },
  "language_info": {
   "codemirror_mode": {
    "name": "ipython",
    "version": 2
   },
   "file_extension": ".py",
   "mimetype": "text/x-python",
   "name": "python",
   "nbconvert_exporter": "python",
   "pygments_lexer": "ipython2",
   "version": "2.7.6"
  }
 },
 "nbformat": 4,
 "nbformat_minor": 0
}