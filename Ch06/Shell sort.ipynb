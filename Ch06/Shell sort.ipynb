{
 "cells": [
  {
   "cell_type": "markdown",
   "source": [
    "### 06-5 셀 정렬 Shall sort\n",
    "셀 정렬은 먼저 정렬할 배열의 원소를 그룹으로 나눠 각 그룹별로 정렬을 수행한다. 그 후 정렬된 그룹을 합치는 작업을 반복하여 원소의 이동 횟수를 줄이는 방법이다.\n",
    "셀 정렬 과정에서 수행하는 각각의 정렬을 h-정렬 이라고 한다. 정렬 횟수는 늘어나지만 전체적으로 원소의 이동 횟수가 줄어들어 효율적이다.\n",
    "**h의 초기값은 n // 2**로 구한다."
   ],
   "metadata": {
    "collapsed": false
   }
  },
  {
   "cell_type": "code",
   "execution_count": 1,
   "outputs": [
    {
     "name": "stdout",
     "output_type": "stream",
     "text": [
      "셀 정렬을 수행합니다\n"
     ]
    },
    {
     "ename": "ValueError",
     "evalue": "invalid literal for int() with base 10: ''",
     "output_type": "error",
     "traceback": [
      "\u001B[1;31m---------------------------------------------------------------------------\u001B[0m",
      "\u001B[1;31mValueError\u001B[0m                                Traceback (most recent call last)",
      "\u001B[1;32mC:\\Users\\SANGHY~1\\AppData\\Local\\Temp/ipykernel_12136/4255836064.py\u001B[0m in \u001B[0;36m<module>\u001B[1;34m\u001B[0m\n\u001B[0;32m     19\u001B[0m \u001B[1;32mif\u001B[0m \u001B[0m__name__\u001B[0m \u001B[1;33m==\u001B[0m \u001B[1;34m'__main__'\u001B[0m\u001B[1;33m:\u001B[0m\u001B[1;33m\u001B[0m\u001B[1;33m\u001B[0m\u001B[0m\n\u001B[0;32m     20\u001B[0m     \u001B[0mprint\u001B[0m\u001B[1;33m(\u001B[0m\u001B[1;34m'셀 정렬을 수행합니다'\u001B[0m\u001B[1;33m)\u001B[0m\u001B[1;33m\u001B[0m\u001B[1;33m\u001B[0m\u001B[0m\n\u001B[1;32m---> 21\u001B[1;33m     \u001B[0mnum\u001B[0m \u001B[1;33m=\u001B[0m \u001B[0mint\u001B[0m\u001B[1;33m(\u001B[0m\u001B[0minput\u001B[0m\u001B[1;33m(\u001B[0m\u001B[1;34m'원소 수를 입력하세요:'\u001B[0m\u001B[1;33m)\u001B[0m\u001B[1;33m)\u001B[0m\u001B[1;33m\u001B[0m\u001B[1;33m\u001B[0m\u001B[0m\n\u001B[0m\u001B[0;32m     22\u001B[0m     \u001B[0mx\u001B[0m \u001B[1;33m=\u001B[0m \u001B[1;33m[\u001B[0m\u001B[1;32mNone\u001B[0m\u001B[1;33m]\u001B[0m \u001B[1;33m*\u001B[0m \u001B[0mnum\u001B[0m\u001B[1;33m\u001B[0m\u001B[1;33m\u001B[0m\u001B[0m\n\u001B[0;32m     23\u001B[0m \u001B[1;33m\u001B[0m\u001B[0m\n",
      "\u001B[1;31mValueError\u001B[0m: invalid literal for int() with base 10: ''"
     ]
    }
   ],
   "source": [
    "# 셀 정렬 알고리즘\n",
    "\n",
    "from typing import MutableSequence\n",
    "\n",
    "def shell_sort(a: MutableSequence) -> None:\n",
    "    '''셀 정렬'''\n",
    "    n = len(a)\n",
    "    h = n // 2\n",
    "    while h > 0:\n",
    "        for i in range (h, n):\n",
    "            j = i - h\n",
    "            tmp = a[i]\n",
    "            while j >= 0 and a[j] > tmp:\n",
    "                a[j + h]  = a[j]\n",
    "                j -= h\n",
    "            a[j+h] = tmp\n",
    "        h //= 2\n",
    "\n",
    "if __name__ == '__main__':\n",
    "    print('셀 정렬을 수행합니다')\n",
    "    num = int(input('원소 수를 입력하세요:'))\n",
    "    x = [None] * num\n",
    "\n",
    "    for i in range(num):\n",
    "        x[i] = int(input(f'x[{i}]'))\n",
    "\n",
    "    shell_sort(x)\n",
    "\n",
    "    print('오름차순으로 정렬했습니다')\n",
    "    for i in range(num):\n",
    "        print(f'x[{i}] = {x[i]}')"
   ],
   "metadata": {
    "collapsed": false,
    "pycharm": {
     "name": "#%%\n"
    }
   }
  }
 ],
 "metadata": {
  "kernelspec": {
   "display_name": "Python 3",
   "language": "python",
   "name": "python3"
  },
  "language_info": {
   "codemirror_mode": {
    "name": "ipython",
    "version": 2
   },
   "file_extension": ".py",
   "mimetype": "text/x-python",
   "name": "python",
   "nbconvert_exporter": "python",
   "pygments_lexer": "ipython2",
   "version": "2.7.6"
  }
 },
 "nbformat": 4,
 "nbformat_minor": 0
}