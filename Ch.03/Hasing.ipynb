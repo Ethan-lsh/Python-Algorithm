{
 "cells": [
  {
   "cell_type": "markdown",
   "metadata": {},
   "source": [
    "# Hashing\n",
    "Finding the index where to store the data. This method perform efficiently not only 'searching', but also 'addition' and 'deletes'.\n",
    "\n",
    "#### Steps:\n",
    "1. Make the **hash table** with the **hash value**, which is the remainder of *element value % the number of index*.\n",
    "   The value of the hash table called **bucket**. And this process is called **hash function**.\n",
    "2. Add the input number into the hash table by using its hash value.\n",
    "\n",
    "___\n",
    "#### Collision\n",
    "The bucket overlap. In this case, the bucket is already in table where we want to input the data.\n",
    "\n",
    "This can be solved by two method.\n",
    "* Chaining\n",
    "* Open addressing"
   ]
  },
  {
   "cell_type": "markdown",
   "metadata": {},
   "source": [
    "## Chaining\n",
    "Manage the same hash value in linked-list format."
   ]
  },
  {
   "cell_type": "code",
   "execution_count": 2,
   "metadata": {},
   "outputs": [],
   "source": [
    "from __future__ import annotations\n",
    "from typing import Any, Type\n",
    "import hashlib\n",
    "\n",
    "class Node:\n",
    "    \"\"\"해시를 구성하는 노드\"\"\"\n",
    "    \n",
    "    def __init__(self, key:Any, value:Any, next:Node) -> None:\n",
    "        self.key = key\n",
    "        self.value = value\n",
    "        self.ext = next\n",
    "        \n",
    "class ChainedHash:\n",
    "    def __init__(self, capacity: int) -> None:\n",
    "        self.capacity = capacity\n",
    "        self.table = [None] * self.capacity\n",
    "        \n",
    "    def hash_value(self, key: Any) -> int:\n",
    "        if isinstance(key, int):\n",
    "            return key % self.capacity\n",
    "        return(int(hashlib.sha256(str(key).encode()).hexdigest(), 16) % self.capacity)"
   ]
  }
 ],
 "metadata": {
  "kernelspec": {
   "display_name": "Python 3",
   "language": "python",
   "name": "python3"
  },
  "language_info": {
   "codemirror_mode": {
    "name": "ipython",
    "version": 3
   },
   "file_extension": ".py",
   "mimetype": "text/x-python",
   "name": "python",
   "nbconvert_exporter": "python",
   "pygments_lexer": "ipython3",
   "version": "3.8.5"
  }
 },
 "nbformat": 4,
 "nbformat_minor": 4
}
